{
 "cells": [
  {
   "cell_type": "code",
   "execution_count": null,
   "id": "9a79ea98",
   "metadata": {},
   "outputs": [],
   "source": [
    "from pyrosm import OSM\n",
    "from pyrosm import get_data\n",
    "import osmnx as ox\n",
    "import os\n",
    "\n",
    "# Pyrosm comes with a couple of test datasets \n",
    "# that can be used straight away without\n",
    "# downloading anything\n",
    "#fp = get_data(\"Bangkok\")\n",
    "\n",
    "cwd=os.getcwd()\n",
    "print(\"Current working directory: {0}\".format(cwd))\n",
    "filename='/thailand-latest.osm.pbf'\n",
    "fp=cwd+filename\n",
    "\n",
    "# Initialize the OSM parser object\n",
    "osm = OSM(fp)\n",
    "\n",
    "nodes, edges = osm.get_network(nodes=True)\n",
    "\n",
    "# Create a graph for igraph from nodes and edges\n",
    "G = osm.to_graph(nodes, edges, graph_type=\"networkx\")\n",
    "\n",
    "# Plot the graph with OSMnx\n",
    "ox.plot_graph(G)"
   ]
  },
  {
   "cell_type": "code",
   "execution_count": null,
   "id": "d9d25a8c",
   "metadata": {},
   "outputs": [],
   "source": [
    "origin_point=(13.79090,100.47917)\n",
    "destination_point=(13.82896,100.60371)\n",
    "origin=ox.geocode(str(origin_point[0])+\"\"\",\"\"\"+str(origin_point[1]))\n",
    "destination=ox.geocode(str(destination_point[0])+\"\"\",\"\"\"+str(destination_point[1]))\n",
    "origin_node = ox.get_nearest_node(G, origin)\n",
    "destination_node = ox.get_nearest_node(G, destination)\n",
    "ox.plot_graph(G)"
   ]
  }
 ],
 "metadata": {
  "kernelspec": {
   "display_name": "pyrosm",
   "language": "python",
   "name": "pyrosm"
  },
  "language_info": {
   "codemirror_mode": {
    "name": "ipython",
    "version": 3
   },
   "file_extension": ".py",
   "mimetype": "text/x-python",
   "name": "python",
   "nbconvert_exporter": "python",
   "pygments_lexer": "ipython3",
   "version": "3.7.10"
  }
 },
 "nbformat": 4,
 "nbformat_minor": 5
}
