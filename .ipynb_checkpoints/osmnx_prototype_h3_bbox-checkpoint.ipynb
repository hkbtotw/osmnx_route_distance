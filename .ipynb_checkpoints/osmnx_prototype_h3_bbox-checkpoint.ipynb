{
 "cells": [
  {
   "cell_type": "code",
   "execution_count": 1,
   "id": "9eb0855b",
   "metadata": {},
   "outputs": [],
   "source": [
    "import osmnx as ox \n",
    "import networkx as nx \n",
    "import matplotlib.pyplot as plt\n",
    "import matplotlib\n",
    "from csv_join_tambon import *\n",
    "matplotlib.use('Agg')\n",
    "from descartes import PolygonPatch\n",
    "from datetime import datetime, date, timedelta\n",
    "import h3\n",
    "import os\n",
    "%matplotlib inline\n",
    "#import graphics\n",
    "\n",
    "start_datetime = datetime.now()\n",
    "print (start_datetime,'execute')\n",
    "todayStr=date.today().strftime('%Y-%m-%d')\n",
    "nowStr=datetime.today().strftime('%Y-%m-%d %H:%M:%S')\n",
    "print(\"TodayStr's date:\", todayStr,' -- ',type(todayStr))\n",
    "print(\"nowStr's date:\", nowStr,' -- ',type(nowStr))"
   ]
  },
  {
   "cell_type": "code",
   "execution_count": 2,
   "id": "fe48b397",
   "metadata": {},
   "outputs": [
    {
     "name": "stdout",
     "output_type": "stream",
     "text": [
      "Current working directory: /home/hkbtotw/Project2021/osmnx\n"
     ]
    }
   ],
   "source": [
    "cwd=os.getcwd()\n",
    "print(\"Current working directory: {0}\".format(cwd))"
   ]
  },
  {
   "cell_type": "code",
   "execution_count": 3,
   "id": "625b12ae",
   "metadata": {},
   "outputs": [],
   "source": [
    "### Input : Origin and Destination\n",
    "origin_point=(13.79111,100.48003)\n",
    "destination_point=(16.56503,100.80824)"
   ]
  },
  {
   "cell_type": "code",
   "execution_count": 4,
   "id": "32a3da78",
   "metadata": {},
   "outputs": [],
   "source": [
    "### Create boundary box\n",
    "o1_lat=origin_point[0]-0.01; o1_lng=origin_point[1]-0.01\n",
    "o2_lat=origin_point[0]-0.01; o2_lng=origin_point[1]+0.01\n",
    "d1_lat=destination_point[0]+0.01; d1_lng=destination_point[1]-0.01\n",
    "d2_lat=destination_point[0]+0.01; d2_lng=destination_point[1]+0.01\n",
    "\n",
    "## Check if it draws box by h3-folium\n",
    "#print('[',o1_lat,',',o1_lng,'],[',d1_lat,',',d1_lng,'],[',d2_lat,',',d2_lng,'],[',o2_lat,',',o2_lng,']')"
   ]
  },
  {
   "cell_type": "code",
   "execution_count": 5,
   "id": "079bf207",
   "metadata": {},
   "outputs": [
    {
     "name": "stdout",
     "output_type": "stream",
     "text": [
      "672\n",
      "Current working directory: /home/hkbtotw/Project2021/osmnx\n"
     ]
    },
    {
     "data": {
      "text/plain": [
       "['LOP BURI',\n",
       " 'PHETCHABUN',\n",
       " 'NAKHON SAWAN',\n",
       " 'PHRA NAKHON SI AYUTTHAYA',\n",
       " 'PATHUM THANI',\n",
       " 'PHITSANULOK',\n",
       " 'SARABURI',\n",
       " 'NONTHABURI',\n",
       " 'PHICHIT']"
      ]
     },
     "execution_count": 5,
     "metadata": {},
     "output_type": "execute_result"
    }
   ],
   "source": [
    "## Create poly filled\n",
    "# level 8 covers approx 1 km2\n",
    "\n",
    "geoJson = {'type': 'Polygon',\n",
    " 'coordinates': [ [[ o1_lat , o1_lng ],[ d1_lat , d1_lng ],[ d2_lat , d2_lng ],[ o2_lat , o2_lng ] ]  ] }\n",
    "\n",
    "hexagons = list(h3.polyfill(geoJson,8))\n",
    "print(len(hexagons))\n",
    "\n",
    "def GetCenterHex_Lat(hex_id):\n",
    "    return h3.h3_to_geo(hex_id)[0]\n",
    "\n",
    "def GetCenterHex_Lng(hex_id):\n",
    "    return h3.h3_to_geo(hex_id)[1]\n",
    "\n",
    "dfHex=pd.DataFrame(hexagons, columns=['hex_id'])\n",
    "dfHex['Latitude']=dfHex.apply(lambda x: GetCenterHex_Lat(x['hex_id']),axis=1)\n",
    "dfHex['Longitude']=dfHex.apply(lambda x: GetCenterHex_Lng(x['hex_id']),axis=1)\n",
    "\n",
    "dfHex=Reverse_GeoCoding(dfHex)\n",
    "provinceList=list(dfHex['p_name_e'].unique())\n",
    "del dfHex, hexagons, geoJson\n",
    "provinceList"
   ]
  },
  {
   "cell_type": "code",
   "execution_count": null,
   "id": "d2a4d392",
   "metadata": {},
   "outputs": [],
   "source": [
    "%%time\n",
    "places=provinceList\n",
    "network_type = 'drive' # walk\n",
    "G=ox.graph_from_place(places, network_type=network_type)"
   ]
  },
  {
   "cell_type": "code",
   "execution_count": null,
   "id": "9c7d7abd",
   "metadata": {},
   "outputs": [],
   "source": [
    "origin=ox.geocode(str(origin_point[0])+\"\"\",\"\"\"+str(origin_point[1]))\n",
    "destination=ox.geocode(str(destination_point[0])+\"\"\",\"\"\"+str(destination_point[1]))\n",
    "origin_node = ox.get_nearest_node(G, origin)\n",
    "destination_node = ox.get_nearest_node(G, destination)\n",
    "ox.plot_graph(G)"
   ]
  },
  {
   "cell_type": "code",
   "execution_count": null,
   "id": "eee5030e",
   "metadata": {},
   "outputs": [],
   "source": [
    "fig, ax = ox.plot_graph(G, figsize=(15,15), \n",
    "                        show=False, close=False, \n",
    "                        edge_color='black')\n",
    "ax.scatter(origin[1], origin[0], c='red', s=100)\n",
    "ax.scatter(destination[1], destination[0], c='blue', s=100)\n",
    "ax.scatter(G.nodes[origin_node]['x'],\n",
    "           G.nodes[origin_node]['y'], \n",
    "           c='green', s=100)\n",
    "ax.scatter(G.nodes[destination_node]['x'],   \n",
    "           G.nodes[destination_node]['y'], \n",
    "           c='green', s=100)\n",
    "plt.show()"
   ]
  },
  {
   "cell_type": "code",
   "execution_count": null,
   "id": "afb23e88",
   "metadata": {},
   "outputs": [],
   "source": [
    "route = nx.shortest_path(G, origin_node,\n",
    "                         destination_node,weight='length')\n",
    "fig, ax = ox.plot_graph_route(G, route, figsize=(15,15), \n",
    "                              show=False, close=False, \n",
    "                              edge_color='black',\n",
    "                              #orig_dest_node_color='green',\n",
    "                              route_color='green')\n",
    "ax.scatter(origin[1], origin[0], c='red', s=100)\n",
    "ax.scatter(destination[1], destination[0], c='blue', s=100)\n",
    "plt.show()"
   ]
  },
  {
   "cell_type": "code",
   "execution_count": null,
   "id": "507fcce8",
   "metadata": {},
   "outputs": [],
   "source": [
    "route_length = nx.shortest_path_length(G, origin_node,destination_node,weight='length')/1000\n",
    "print('%.2f'%route_length, 'km')"
   ]
  },
  {
   "cell_type": "code",
   "execution_count": null,
   "id": "05b124aa",
   "metadata": {},
   "outputs": [],
   "source": [
    "###****************************************************************\n",
    "end_datetime = datetime.now()\n",
    "print ('---Start---',start_datetime)\n",
    "print('---complete---',end_datetime)\n",
    "DIFFTIME = end_datetime - start_datetime \n",
    "DIFFTIMEMIN = DIFFTIME.total_seconds()\n",
    "print('Time_use : ',round(DIFFTIMEMIN,2), ' Seconds')"
   ]
  },
  {
   "cell_type": "code",
   "execution_count": null,
   "id": "1b34b012",
   "metadata": {},
   "outputs": [],
   "source": [
    "# getting coordinates of the nodes\n",
    "# we will store the longitudes and latitudes in following list \n",
    "route=nx.shortest_path(G, origin_node,destination_node,weight='length')\n",
    "long = [] \n",
    "lat = []  \n",
    "for i in route:\n",
    "     point = G.nodes[i]\n",
    "     long.append(point['x'])\n",
    "     lat.append(point['y'])"
   ]
  },
  {
   "cell_type": "code",
   "execution_count": null,
   "id": "05a33c96",
   "metadata": {},
   "outputs": [],
   "source": [
    "import plotly.graph_objects as go\n",
    "import numpy as np\n",
    "def plot_path(lat, long, origin_point, destination_point):\n",
    "    \n",
    "    \"\"\"\n",
    "    Given a list of latitudes and longitudes, origin \n",
    "    and destination point, plots a path on a map\n",
    "    \n",
    "    Parameters\n",
    "    ----------\n",
    "    lat, long: list of latitudes and longitudes\n",
    "    origin_point, destination_point: co-ordinates of origin\n",
    "    and destination\n",
    "    Returns\n",
    "    -------\n",
    "    Nothing. Only shows the map.\n",
    "    \"\"\"\n",
    "    # adding the lines joining the nodes\n",
    "    fig = go.Figure(go.Scattermapbox(\n",
    "        name = \"Path\",\n",
    "        mode = \"lines\",\n",
    "        lon = long,\n",
    "        lat = lat,\n",
    "        marker = {'size': 10},\n",
    "        line = dict(width = 4.5, color = 'blue')))\n",
    "    # adding source marker\n",
    "    fig.add_trace(go.Scattermapbox(\n",
    "        name = \"Source\",\n",
    "        mode = \"markers\",\n",
    "        lon = [origin_point[1]],\n",
    "        lat = [origin_point[0]],\n",
    "        marker = {'size': 12, 'color':\"red\"}))\n",
    "     \n",
    "    # adding destination marker\n",
    "    fig.add_trace(go.Scattermapbox(\n",
    "        name = \"Destination\",\n",
    "        mode = \"markers\",\n",
    "        lon = [destination_point[1]],\n",
    "        lat = [destination_point[0]],\n",
    "        marker = {'size': 12, 'color':'green'}))\n",
    "    \n",
    "    # getting center for plots:\n",
    "    lat_center = np.mean(lat)\n",
    "    long_center = np.mean(long)\n",
    "    # defining the layout using mapbox_style\n",
    "    fig.update_layout(mapbox_style=\"stamen-terrain\",\n",
    "        mapbox_center_lat = 30, mapbox_center_lon=-80)\n",
    "    fig.update_layout(margin={\"r\":0,\"t\":0,\"l\":0,\"b\":0},\n",
    "                      mapbox = {\n",
    "                          'center': {'lat': lat_center, \n",
    "                          'lon': long_center},\n",
    "                          'zoom': 11})\n",
    "    fig.show()\n",
    "\n",
    "plot_path(lat, long, origin_point, destination_point)"
   ]
  }
 ],
 "metadata": {
  "kernelspec": {
   "display_name": "ox",
   "language": "python",
   "name": "ox"
  },
  "language_info": {
   "codemirror_mode": {
    "name": "ipython",
    "version": 3
   },
   "file_extension": ".py",
   "mimetype": "text/x-python",
   "name": "python",
   "nbconvert_exporter": "python",
   "pygments_lexer": "ipython3",
   "version": "3.9.6"
  }
 },
 "nbformat": 4,
 "nbformat_minor": 5
}
