{
 "cells": [
  {
   "cell_type": "code",
   "execution_count": null,
   "id": "9eb0855b",
   "metadata": {},
   "outputs": [],
   "source": [
    "import osmnx as ox \n",
    "import networkx as nx \n",
    "import matplotlib.pyplot as plt\n",
    "import matplotlib\n",
    "matplotlib.use('Agg')\n",
    "from descartes import PolygonPatch\n",
    "from datetime import datetime, date, timedelta\n",
    "import os\n",
    "%matplotlib inline\n",
    "#import graphics"
   ]
  },
  {
   "cell_type": "code",
   "execution_count": null,
   "id": "fe48b397",
   "metadata": {},
   "outputs": [],
   "source": [
    "cwd=os.getcwd()\n",
    "print(\"Current working directory: {0}\".format(cwd))"
   ]
  },
  {
   "cell_type": "code",
   "execution_count": null,
   "id": "9000b2aa",
   "metadata": {},
   "outputs": [],
   "source": [
    "provinceList=[\n",
    "    #'Bangkok','Nonthaburi','Pathum thani','Samut Prakan',\n",
    "    #'Chachoengsao','Chanthaburi','Chon Buri','Nakhon Nayok','Rayong','Sa Kaeo','Trat','Prachin Buri',\n",
    "    #'AMNAT CHAROEN','BURI RAM','NAKHON RATCHASIMA','ROI ET','SURIN','UBON RATCHATHANI','YASOTHON','SI SA KET',\n",
    "    #'CHAIYAPHUM','KALASIN','KHON KAEN','LOEI','MAHA SARAKHAM','MUKDAHAN','NAKHON PHANOM','NONG BUA LAMPHU','NONG KHAI','SAKON NAKHON','UDON THANI','BUENG KAN',\n",
    "    #'CHIANG MAI','CHIANG RAI','LAMPANG','LAMPHUN','MAE HONG SON','NAN','PHAYAO','PHITSANULOK','PHRAE','SUKHOTHAI',\n",
    "    'TAK','UTTARADIT',\n",
    "    'ANG THONG','KAMPHAENG PHET','LOP BURI','NAKHON SAWAN','PHETCHABUN','PHICHIT','PHRA NAKHON SI AYUTTHAYA','SARABURI','SING BURI','UTHAI THANI','CHAI NAT',\n",
    "    'KANCHANABURI','NAKHON PATHOM','PHETCHABURI','PRACHUAP KHIRI KHAN','RATCHABURI','SAMUT SAKHON','SAMUT SONGKHRAM','SUPHAN BURI',\n",
    "    'CHUMPHON','KRABI','NAKHON SI THAMMARAT','NARATHIWAT','PATTANI','PHANGNGA','PHATTHALUNG','PHUKET','RANONG','SATUN','SONGKHLA','SURAT THANI','TRANG','YALA']\n",
    "    "
   ]
  },
  {
   "cell_type": "code",
   "execution_count": null,
   "id": "88e3e572",
   "metadata": {},
   "outputs": [],
   "source": [
    "%%time\n",
    "### ref: https://geoffboeing.com/2016/11/osmnx-python-street-networks/   (how to use osmnx)\n",
    "completeProvince=[]\n",
    "incompleteProvince=[]\n",
    "for province in provinceList:\n",
    "    try:\n",
    "        nowStr=datetime.today().strftime('%Y-%m-%d %H:%M:%S')\n",
    "        print(' --- process province --- drive ', province, ' :: ',nowStr)\n",
    "        places=[province]\n",
    "        network_type = 'drive' # walk\n",
    "        G=ox.graph_from_place(places, network_type=network_type)\n",
    "        ### ref : read write networkx's gpickle  https://networkx.org/documentation/stable/reference/readwrite/generated/networkx.readwrite.gpickle.write_gpickle.html\n",
    "        pickle_filename='/'+province+'_'+network_type+'_area.gpickle'\n",
    "        nx.write_gpickle(G, cwd+'/gprovince_'+network_type+pickle_filename)\n",
    "        nowStr=datetime.today().strftime('%Y-%m-%d %H:%M:%S')\n",
    "        print(' --- process province --- walk ', province, ' :: ',nowStr)\n",
    "        network_type = 'walk'\n",
    "        G=ox.graph_from_place(places, network_type=network_type)\n",
    "        ### ref : read write networkx's gpickle  https://networkx.org/documentation/stable/reference/readwrite/generated/networkx.readwrite.gpickle.write_gpickle.html\n",
    "        pickle_filename='/'+province+'_'+network_type+'_area.gpickle'\n",
    "        nx.write_gpickle(G, cwd+'/gprovince_'+network_type+pickle_filename)\n",
    "        completeProvince.append(province)\n",
    "    except:\n",
    "        print(' --- incomplete province --- ', province)\n",
    "        incompleteProvince.append(province)\n"
   ]
  },
  {
   "cell_type": "code",
   "execution_count": null,
   "id": "703bd0d7",
   "metadata": {},
   "outputs": [],
   "source": [
    "print(' complete : ',completeProvince)\n",
    "print(' incomplete : ',incompleteProvince)"
   ]
  }
 ],
 "metadata": {
  "kernelspec": {
   "display_name": "ox",
   "language": "python",
   "name": "ox"
  },
  "language_info": {
   "codemirror_mode": {
    "name": "ipython",
    "version": 3
   },
   "file_extension": ".py",
   "mimetype": "text/x-python",
   "name": "python",
   "nbconvert_exporter": "python",
   "pygments_lexer": "ipython3",
   "version": "3.9.6"
  }
 },
 "nbformat": 4,
 "nbformat_minor": 5
}
