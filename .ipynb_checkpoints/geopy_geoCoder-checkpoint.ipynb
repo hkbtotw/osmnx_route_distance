{
 "cells": [
  {
   "cell_type": "markdown",
   "id": "d9b23514",
   "metadata": {},
   "source": [
    "ref:  <br />\n",
    "[1] https://towardsdatascience.com/geocode-with-python-161ec1e62b89 <br />\n",
    "[2] https://towardsdatascience.com/things-to-do-with-latitude-longitude-data-using-geopy-python-1d356ed1ae30   <br />\n",
    "[3] https://towardsdatascience.com/clustering-geospatial-data-f0584f0b04ec  <br />"
   ]
  },
  {
   "cell_type": "code",
   "execution_count": 33,
   "id": "4219ac03",
   "metadata": {},
   "outputs": [
    {
     "name": "stdout",
     "output_type": "stream",
     "text": [
      "lat lng = 13.8044505,100.477133\n"
     ]
    }
   ],
   "source": [
    "from geopy.geocoders import Nominatim\n",
    "\n",
    "address='ถนนบางกรวย ตำบลวัดชลอ อำเภอบางกรวย นนทบุรี'\n",
    "\n",
    "locator = Nominatim(user_agent=\"myGeocoder\")\n",
    "location = locator.geocode(address)\n",
    "\n",
    "print(\"lat lng = {},{}\".format(location.latitude, location.longitude))"
   ]
  },
  {
   "cell_type": "code",
   "execution_count": 24,
   "id": "5762c7b6",
   "metadata": {},
   "outputs": [
    {
     "name": "stdout",
     "output_type": "stream",
     "text": [
      "บางกรวย, ตำบลวัดชลอ, เทศบาลเมืองบางกรวย, อำเภอบางกรวย, จังหวัดนนทบุรี, 11130, ประเทศไทย\n"
     ]
    }
   ],
   "source": [
    "from geopy.extra.rate_limiter import RateLimiter\n",
    "\n",
    "reverse = RateLimiter(locator.reverse, min_delay_seconds=1)\n",
    "# adding 1 second padding between calls\n",
    "## Reverse geocoding\n",
    "lat=location.latitude\n",
    "long=location.longitude\n",
    "location = reverse((lat, long))\n",
    "\n",
    "print(location)"
   ]
  },
  {
   "cell_type": "code",
   "execution_count": 38,
   "id": "bb5f4411",
   "metadata": {},
   "outputs": [
    {
     "data": {
      "text/html": [
       "<div>\n",
       "<style scoped>\n",
       "    .dataframe tbody tr th:only-of-type {\n",
       "        vertical-align: middle;\n",
       "    }\n",
       "\n",
       "    .dataframe tbody tr th {\n",
       "        vertical-align: top;\n",
       "    }\n",
       "\n",
       "    .dataframe thead th {\n",
       "        text-align: right;\n",
       "    }\n",
       "</style>\n",
       "<table border=\"1\" class=\"dataframe\">\n",
       "  <thead>\n",
       "    <tr style=\"text-align: right;\">\n",
       "      <th></th>\n",
       "      <th>id</th>\n",
       "      <th>latitude</th>\n",
       "      <th>longitude</th>\n",
       "      <th>track_id</th>\n",
       "      <th>time</th>\n",
       "    </tr>\n",
       "  </thead>\n",
       "  <tbody>\n",
       "    <tr>\n",
       "      <th>0</th>\n",
       "      <td>1</td>\n",
       "      <td>-10.939341</td>\n",
       "      <td>-37.062742</td>\n",
       "      <td>1</td>\n",
       "      <td>13/09/2014 7:24</td>\n",
       "    </tr>\n",
       "    <tr>\n",
       "      <th>1</th>\n",
       "      <td>2</td>\n",
       "      <td>-10.939341</td>\n",
       "      <td>-37.062742</td>\n",
       "      <td>1</td>\n",
       "      <td>13/09/2014 7:24</td>\n",
       "    </tr>\n",
       "    <tr>\n",
       "      <th>2</th>\n",
       "      <td>3</td>\n",
       "      <td>-10.939324</td>\n",
       "      <td>-37.062765</td>\n",
       "      <td>1</td>\n",
       "      <td>13/09/2014 7:24</td>\n",
       "    </tr>\n",
       "  </tbody>\n",
       "</table>\n",
       "</div>"
      ],
      "text/plain": [
       "   id   latitude  longitude  track_id             time\n",
       "0   1 -10.939341 -37.062742         1  13/09/2014 7:24\n",
       "1   2 -10.939341 -37.062742         1  13/09/2014 7:24\n",
       "2   3 -10.939324 -37.062765         1  13/09/2014 7:24"
      ]
     },
     "execution_count": 38,
     "metadata": {},
     "output_type": "execute_result"
    }
   ],
   "source": [
    "import pandas as pd\n",
    "import os\n",
    "\n",
    "file_path=os.getcwd()\n",
    "file_name='test_routedistance.csv'\n",
    "\n",
    "dfIn=pd.read_csv(file_path+'/data/'+file_name)\n",
    "\n",
    "dfIn.head(3)"
   ]
  }
 ],
 "metadata": {
  "kernelspec": {
   "display_name": "ox",
   "language": "python",
   "name": "ox"
  },
  "language_info": {
   "codemirror_mode": {
    "name": "ipython",
    "version": 3
   },
   "file_extension": ".py",
   "mimetype": "text/x-python",
   "name": "python",
   "nbconvert_exporter": "python",
   "pygments_lexer": "ipython3",
   "version": "3.9.6"
  }
 },
 "nbformat": 4,
 "nbformat_minor": 5
}
