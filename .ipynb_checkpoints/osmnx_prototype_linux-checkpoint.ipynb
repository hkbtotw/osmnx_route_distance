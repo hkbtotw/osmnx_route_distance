{
 "cells": [
  {
   "cell_type": "code",
   "execution_count": 1,
   "id": "9eb0855b",
   "metadata": {},
   "outputs": [],
   "source": [
    "import osmnx as ox \n",
    "import networkx as nx \n",
    "import matplotlib.pyplot as plt\n",
    "import matplotlib\n",
    "matplotlib.use('Agg')\n",
    "from descartes import PolygonPatch\n",
    "import os\n",
    "%matplotlib inline\n",
    "#import graphics"
   ]
  },
  {
   "cell_type": "code",
   "execution_count": 2,
   "id": "fe48b397",
   "metadata": {},
   "outputs": [
    {
     "name": "stdout",
     "output_type": "stream",
     "text": [
      "Current working directory: /home/hkbtotw/Project2021/osmnx\n"
     ]
    }
   ],
   "source": [
    "cwd=os.getcwd()\n",
    "print(\"Current working directory: {0}\".format(cwd))"
   ]
  },
  {
   "cell_type": "code",
   "execution_count": 3,
   "id": "0940a6be",
   "metadata": {},
   "outputs": [],
   "source": [
    "### Parameter\n",
    "if_start_from_scratch=1\n",
    "\n",
    "pickle_filename='/region13456_area.gpickle'"
   ]
  },
  {
   "cell_type": "code",
   "execution_count": null,
   "id": "88e3e572",
   "metadata": {},
   "outputs": [],
   "source": [
    "### ref: https://geoffboeing.com/2016/11/osmnx-python-street-networks/   (how to use osmnx)\n",
    "if(if_start_from_scratch==1):\n",
    "    #places=['Bangkok','Nonthaburi','Pathum thani','Samut Prakan']\n",
    "    #places=['Chachoengsao','Chanthaburi','Chon Buri','Nakhon Nayok','Rayong','Sa Kaeo','Trat']  #'Prachin Buri',\n",
    "    places=['AMNAT CHAROEN','BURI RAM','NAKHON RATCHASIMA','ROI ET','SURIN','UBON RATCHATHANI','YASOTHON']  #'SI SA KET',\n",
    "    #places=['BUENG KAN','CHAIYAPHUM','KALASIN','KHON KAEN','LOEI','MAHA SARAKHAM','MUKDAHAN','NAKHON PHANOM','NONG BUA LAMPHU','NONG KHAI','SAKON NAKHON','UDON THANI']\n",
    "    #places=['CHIANG MAI','CHIANG RAI','LAMPANG','LAMPHUN','MAE HONG SON','NAN','PHAYAO','PHITSANULOK','PHRAE','SUKHOTHAI','TAK','UTTARADIT']\n",
    "    #places=['ANG THONG','CHAI NAT','KAMPHAENG PHET','LOP BURI','NAKHON SAWAN','PHETCHABUN','PHICHIT','PHRA NAKHON SI AYUTTHAYA','SARABURI','SING BURI','UTHAI THANI']\n",
    "    #places=['KANCHANABURI','NAKHON PATHOM','PHETCHABURI','PRACHUAP KHIRI KHAN','RATCHABURI','SAMUT SAKHON','SAMUT SONGKHRAM','SUPHAN BURI']\n",
    "    #places=['CHUMPHON','KRABI','NAKHON SI THAMMARAT','NARATHIWAT','PATTANI','PHANGNGA','PHATTHALUNG','PHUKET','RANONG','SATUN','SONGKHLA','SURAT THANI','TRANG','YALA']\n",
    "    \n",
    "    places=['Bangkok','Nonthaburi','Pathum thani','Samut Prakan','CHIANG MAI','CHIANG RAI','LAMPANG','LAMPHUN','MAE HONG SON','NAN','PHAYAO','PHITSANULOK','PHRAE','SUKHOTHAI','TAK','UTTARADIT',\n",
    "           'ANG THONG','CHAI NAT','KAMPHAENG PHET','LOP BURI','NAKHON SAWAN','PHETCHABUN','PHICHIT','PHRA NAKHON SI AYUTTHAYA','SARABURI','SING BURI','UTHAI THANI',\n",
    "           'BUENG KAN','CHAIYAPHUM','KALASIN','KHON KAEN','LOEI','MAHA SARAKHAM','MUKDAHAN','NAKHON PHANOM','NONG BUA LAMPHU','NONG KHAI','SAKON NAKHON','UDON THANI',\n",
    "           'AMNAT CHAROEN','BURI RAM','NAKHON RATCHASIMA','ROI ET','SURIN','UBON RATCHATHANI','YASOTHON']\n",
    "    \n",
    "    adress = 'Thailand'\n",
    "    network_type = 'drive' # walk\n",
    "    #distance=30000\n",
    "    #G=ox.graph_from_address(adress, dist=distance, dist_type='bbox',network_type=network_type)\n",
    "    #G=ox.graph_from_place(adress, network_type=network_type)\n",
    "    G=ox.graph_from_place(places, network_type=network_type)\n",
    "    ### ref : read write networkx's gpickle  https://networkx.org/documentation/stable/reference/readwrite/generated/networkx.readwrite.gpickle.write_gpickle.html\n",
    "    nx.write_gpickle(G, cwd+pickle_filename)\n",
    "else:\n",
    "    G=nx.read_gpickle(cwd+pickle_filename)\n"
   ]
  },
  {
   "cell_type": "code",
   "execution_count": null,
   "id": "9c7d7abd",
   "metadata": {},
   "outputs": [],
   "source": [
    "origin_point=(13.94734,100.41968)\n",
    "destination_point=(13.82896,100.60371)\n",
    "origin=ox.geocode(str(origin_point[0])+\"\"\",\"\"\"+str(origin_point[1]))\n",
    "destination=ox.geocode(str(destination_point[0])+\"\"\",\"\"\"+str(destination_point[1]))\n",
    "origin_node = ox.get_nearest_node(G, origin)\n",
    "destination_node = ox.get_nearest_node(G, destination)\n",
    "ox.plot_graph(G)"
   ]
  },
  {
   "cell_type": "code",
   "execution_count": null,
   "id": "eee5030e",
   "metadata": {},
   "outputs": [],
   "source": [
    "fig, ax = ox.plot_graph(G, figsize=(15,15), \n",
    "                        show=False, close=False, \n",
    "                        edge_color='black')\n",
    "ax.scatter(origin[1], origin[0], c='red', s=100)\n",
    "ax.scatter(destination[1], destination[0], c='blue', s=100)\n",
    "ax.scatter(G.nodes[origin_node]['x'],\n",
    "           G.nodes[origin_node]['y'], \n",
    "           c='green', s=100)\n",
    "ax.scatter(G.nodes[destination_node]['x'],   \n",
    "           G.nodes[destination_node]['y'], \n",
    "           c='green', s=100)\n",
    "plt.show()"
   ]
  },
  {
   "cell_type": "code",
   "execution_count": null,
   "id": "afb23e88",
   "metadata": {},
   "outputs": [],
   "source": [
    "route = nx.shortest_path(G, origin_node,\n",
    "                         destination_node,weight='length')\n",
    "fig, ax = ox.plot_graph_route(G, route, figsize=(15,15), \n",
    "                              show=False, close=False, \n",
    "                              edge_color='black',\n",
    "                              #orig_dest_node_color='green',\n",
    "                              route_color='green')\n",
    "ax.scatter(origin[1], origin[0], c='red', s=100)\n",
    "ax.scatter(destination[1], destination[0], c='blue', s=100)\n",
    "plt.show()"
   ]
  },
  {
   "cell_type": "code",
   "execution_count": null,
   "id": "507fcce8",
   "metadata": {},
   "outputs": [],
   "source": [
    "route_length = nx.shortest_path_length(G, origin_node,destination_node,weight='length')/1000\n",
    "print('%.2f'%route_length, 'km')"
   ]
  },
  {
   "cell_type": "code",
   "execution_count": null,
   "id": "1b34b012",
   "metadata": {},
   "outputs": [],
   "source": [
    "# getting coordinates of the nodes\n",
    "# we will store the longitudes and latitudes in following list \n",
    "route=nx.shortest_path(G, origin_node,destination_node,weight='length')\n",
    "long = [] \n",
    "lat = []  \n",
    "for i in route:\n",
    "     point = G.nodes[i]\n",
    "     long.append(point['x'])\n",
    "     lat.append(point['y'])"
   ]
  },
  {
   "cell_type": "code",
   "execution_count": null,
   "id": "05a33c96",
   "metadata": {},
   "outputs": [],
   "source": [
    "import plotly.graph_objects as go\n",
    "import numpy as np\n",
    "def plot_path(lat, long, origin_point, destination_point):\n",
    "    \n",
    "    \"\"\"\n",
    "    Given a list of latitudes and longitudes, origin \n",
    "    and destination point, plots a path on a map\n",
    "    \n",
    "    Parameters\n",
    "    ----------\n",
    "    lat, long: list of latitudes and longitudes\n",
    "    origin_point, destination_point: co-ordinates of origin\n",
    "    and destination\n",
    "    Returns\n",
    "    -------\n",
    "    Nothing. Only shows the map.\n",
    "    \"\"\"\n",
    "    # adding the lines joining the nodes\n",
    "    fig = go.Figure(go.Scattermapbox(\n",
    "        name = \"Path\",\n",
    "        mode = \"lines\",\n",
    "        lon = long,\n",
    "        lat = lat,\n",
    "        marker = {'size': 10},\n",
    "        line = dict(width = 4.5, color = 'blue')))\n",
    "    # adding source marker\n",
    "    fig.add_trace(go.Scattermapbox(\n",
    "        name = \"Source\",\n",
    "        mode = \"markers\",\n",
    "        lon = [origin_point[1]],\n",
    "        lat = [origin_point[0]],\n",
    "        marker = {'size': 12, 'color':\"red\"}))\n",
    "     \n",
    "    # adding destination marker\n",
    "    fig.add_trace(go.Scattermapbox(\n",
    "        name = \"Destination\",\n",
    "        mode = \"markers\",\n",
    "        lon = [destination_point[1]],\n",
    "        lat = [destination_point[0]],\n",
    "        marker = {'size': 12, 'color':'green'}))\n",
    "    \n",
    "    # getting center for plots:\n",
    "    lat_center = np.mean(lat)\n",
    "    long_center = np.mean(long)\n",
    "    # defining the layout using mapbox_style\n",
    "    fig.update_layout(mapbox_style=\"stamen-terrain\",\n",
    "        mapbox_center_lat = 30, mapbox_center_lon=-80)\n",
    "    fig.update_layout(margin={\"r\":0,\"t\":0,\"l\":0,\"b\":0},\n",
    "                      mapbox = {\n",
    "                          'center': {'lat': lat_center, \n",
    "                          'lon': long_center},\n",
    "                          'zoom': 11})\n",
    "    fig.show()\n",
    "\n",
    "plot_path(lat, long, origin_point, destination_point)"
   ]
  }
 ],
 "metadata": {
  "kernelspec": {
   "display_name": "ox",
   "language": "python",
   "name": "ox"
  },
  "language_info": {
   "codemirror_mode": {
    "name": "ipython",
    "version": 3
   },
   "file_extension": ".py",
   "mimetype": "text/x-python",
   "name": "python",
   "nbconvert_exporter": "python",
   "pygments_lexer": "ipython3",
   "version": "3.9.6"
  }
 },
 "nbformat": 4,
 "nbformat_minor": 5
}
