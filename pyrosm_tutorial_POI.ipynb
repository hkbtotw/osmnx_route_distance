{
 "cells": [
  {
   "cell_type": "code",
   "execution_count": 25,
   "id": "9a79ea98",
   "metadata": {},
   "outputs": [
    {
     "name": "stdout",
     "output_type": "stream",
     "text": [
      "Current working directory: /home/hkbtotw/Project2021/osmnx\n"
     ]
    }
   ],
   "source": [
    "from pyrosm import OSM\n",
    "from pyrosm import get_data\n",
    "import pyrosm\n",
    "import osmnx as ox\n",
    "import os\n",
    "import networkx as nx \n",
    "import matplotlib.pyplot as plt\n",
    "import matplotlib\n",
    "matplotlib.use('Agg')\n",
    "from datetime import datetime, date, timedelta\n",
    "import os\n",
    "import pandas as pd\n",
    "%matplotlib inline\n",
    "#import graphics\n",
    "cwd=os.getcwd()\n",
    "print(\"Current working directory: {0}\".format(cwd))"
   ]
  },
  {
   "cell_type": "code",
   "execution_count": 26,
   "id": "0be227b6",
   "metadata": {},
   "outputs": [],
   "source": [
    "# filename='GasStation_Thailand.parquet'\n",
    "# dfIn=pd.read_parquet(cwd+'/POI/'+filename)\n",
    "# print(len(dfIn),' --- dfIn ---',dfIn.head(5))"
   ]
  },
  {
   "cell_type": "code",
   "execution_count": 27,
   "id": "6a81131d",
   "metadata": {},
   "outputs": [],
   "source": [
    "provinceList=[ \n",
    "    'Bangkok','Nonthaburi','Pathum thani','Samut Prakan',\n",
    "    'Chachoengsao','Chanthaburi','Chon Buri','Nakhon Nayok','Rayong','Sa Kaeo','Trat','Prachin Buri',\n",
    "    'AMNAT CHAROEN','BURI RAM','NAKHON RATCHASIMA','ROI ET','SURIN','UBON RATCHATHANI','YASOTHON','SI SA KET',\n",
    "    'CHAIYAPHUM','KALASIN','KHON KAEN','LOEI','MAHA SARAKHAM','MUKDAHAN','NAKHON PHANOM','NONG BUA LAMPHU','NONG KHAI','SAKON NAKHON','UDON THANI','BUENG KAN',\n",
    "    'CHIANG MAI','CHIANG RAI','LAMPANG','LAMPHUN','MAE HONG SON','NAN','PHAYAO','PHITSANULOK','PHRAE','SUKHOTHAI',\n",
    "    'TAK','UTTARADIT',\n",
    "    'ANG THONG','KAMPHAENG PHET','LOP BURI','NAKHON SAWAN','PHETCHABUN','PHICHIT','PHRA NAKHON SI AYUTTHAYA','SARABURI','SING BURI','UTHAI THANI','CHAI NAT',\n",
    "    'KANCHANABURI','NAKHON PATHOM',\n",
    "    'PHETCHABURI','PRACHUAP KHIRI KHAN','RATCHABURI','SAMUT SAKHON','SAMUT SONGKHRAM',\n",
    "    'Suphan Buri',\n",
    "    'CHUMPHON','KRABI','NAKHON SI THAMMARAT','NARATHIWAT','PATTANI','PHANGNGA','PHATTHALUNG','PHUKET','RANONG','SATUN',\n",
    "    'SONGKHLA','SURAT THANI','TRANG','YALA'\n",
    "]\n"
   ]
  },
  {
   "cell_type": "code",
   "execution_count": 28,
   "id": "e915ab66",
   "metadata": {},
   "outputs": [
    {
     "name": "stdout",
     "output_type": "stream",
     "text": [
      "1  province :  Bangkok\n",
      " Get POI 1 \n",
      " Get POI \n",
      " Get Geometries \n",
      "422  --  Gas :                                                  tags         id        lat  \\\n",
      "0  {\"name:en\":\"Shell\",\"name:th\":\"\\u0E40\\u0E0A\\u0E...  292743083  13.718574   \n",
      "1                                               None  293280422  13.741952   \n",
      "2                    {\"created_by\":\"Potlatch 0.10f\"}  346307959  13.886879   \n",
      "\n",
      "   timestamp  version         lon  changeset addr:city addr:postcode  \\\n",
      "0          0        0  100.567360        0.0      None          None   \n",
      "1          0        0  100.552788        0.0      None          None   \n",
      "2          0        0  100.511139        0.0      None          None   \n",
      "\n",
      "  addr:street  ... source                    geometry osm_type  \\\n",
      "0        None  ...   None  POINT (100.56736 13.71857)     node   \n",
      "1        None  ...   None  POINT (100.55279 13.74195)     node   \n",
      "2        None  ...   None  POINT (100.51114 13.88688)     node   \n",
      "\n",
      "  addr:housenumber phone car_wash landuse parking Province  \\\n",
      "0              NaN   NaN      NaN     NaN     NaN  Bangkok   \n",
      "1              NaN   NaN      NaN     NaN     NaN  Bangkok   \n",
      "2              NaN   NaN      NaN     NaN     NaN  Bangkok   \n",
      "\n",
      "           DBCreatedAt  \n",
      "0  2021-08-19 15:28:48  \n",
      "1  2021-08-19 15:28:48  \n",
      "2  2021-08-19 15:28:48  \n",
      "\n",
      "[3 rows x 27 columns]\n",
      "2  province :  Nonthaburi\n"
     ]
    },
    {
     "name": "stderr",
     "output_type": "stream",
     "text": [
      "/home/hkbtotw/miniconda3/envs/pyrosm/lib/python3.7/site-packages/ipykernel_launcher.py:12: UserWarning: Geometry is in a geographic CRS. Results from 'centroid' are likely incorrect. Use 'GeoSeries.to_crs()' to re-project geometries to a projected CRS before this operation.\n",
      "\n",
      "  if sys.path[0] == '':\n"
     ]
    },
    {
     "ename": "ValueError",
     "evalue": "The dataset 'nonthaburi' is not available. Available datasets are belarus, santabarbara, corsica, limburg, cambridgema, mayotte, salzburg, augsburg, lakegarda, waterloo, guyane, switzerland, kazakhstan, dessau, freiburg, benin, afghanistan, idaho, volga_fed_district, lyon, rotterdam, flevoland, stuttgart, mainz, trondheim, hamburg, tallinn, sudeste, sao_tome_and_principe, sudan, oregon, lapaz, mexico, chugoku, cambodia, arnhem, hertfordshire, paris, lorraine, germany, memphis, centro, miami, santacruz, detmold_regbez, sul, southern_california, lodzkie, prince_edward_island, pennsylvania, leicestershire, bangladesh, ghana, auckland, colombia, seattle, wuerzburg, bombay, cusco, romania, vanuatu, halifax, west_midlands, mannheim, kaiserslautern, iceland, berlin, kiew, gabon, koeln_regbez, alberta, colorado, worcestershire, kent, zambia, birmingham, groningen, saarland, south_fed_district, venezuela, mongolia, leipzig, beirut, rhone_alpes, mali, south_america, malopolskie, rwanda, centre, new_hampshire, turin, providence, maryland, congo_brazzaville, gcc_states, pomorskie, washington, baku, paraguay, laplata, rostock, brazil, denhaag, us_pacific, essex, kujawsko_pomorskie, far_eastern_fed_district, hessen, nauru, magdeburg, porto, bulgaria, northamptonshire, emden, oldenburg, brandenburg, belgium, clermontferrand, noord_brabant, beijing, sanfrancisco, ulm, north_korea, suffolk, bern, tehran, corvallis, kiribati, bochum, virginia, isle_of_wight, dublin, balaton, aachen, provence_alpes_cote_d_azur, montenegro, linz, canada, riga, missouri, tunisia, northwest_territories, nottinghamshire, cuba, congo_democratic_republic, france, peru, maastricht, devon, bielefeld, syria, hannover, louisiana, jerusalem, oberpfalz, arnsberg_regbez, innsbruck, thueringen, wielkopolskie, boulder, chemnitz, estonia, johannesburg, africa, uganda, gdansk, greater_london, north_yorkshire, uzbekistan, norfolk, overijssel, djibouti, brno, melbourne, frankfurtoder, kaunas, bedfordshire, berkshire, montana, ostrava, tokyo, berkeley, ulanbator, barcelona, utah, malaysia_singapore_brunei, oranienburg, frankfurt, greece, schwaben, rutland, regensburg, montevideo, jamaica, dortmund, siberian_fed_district, unterfranken, norte, brisbane, bristol, staffordshire, portlandme, dolnoslaskie, niederbayern, south_yorkshire, tuvalu, darmstadt, togo, cumbria, sofia, swietokrzyskie, koblenz, victoria, croatia, algeria, warwickshire, suriname, illinois, erlangen, vermont, moldova, cairo, nord_pas_de_calais, sucre, luxembourg, thailand, riodejaneiro, friesland, cape_verde, namibia, cambridge, bolivia, zimbabwe, cracow, saarbruecken, australia, drenthe, bourgogne, adelaide, senegal_and_gambia, british_columbia, shikoku, malta, wales, turkey, utrecht, massachusetts, washingtondc, nunavut, stockton, philadelphia, bayern, basse_normandie, sachsen_anhalt, cyprus, copenhagen, vietnam, paderborn, marseille, pays_de_la_loire, surrey, antarctica, sud, delaware, lima, nordrhein_westfalen, leeds, east_yorkshire_with_hull, lincolnshire, northumberland, kaliningrad, poznan, slaskie, andorra, brandenburghavel, niger, cambridgeshire, mauritania, antwerpen, prag, seychelles, gelderland, florida, new_jersey, burkina_faso, ljubljana, nord_ovest, slovenia, schwerin, macedonia, paloalto, tohoku, duesseldorf, new_mexico, poland, haiti_and_domrep, ecuador, lodz, quebec, new_caledonia, guinea_bissau, north_caucasus_fed_district, zeeland, bahamas, bamberg, north_america, noord_holland, niedersachsen, bangkok, nordeste, russia, ontario, palau, montreal, nicaragua, dallas, gloucestershire, northern_california, potsdam, jordan, bhutan, arkansas, vancouver, hawaii, rhode_island, bruegge, taiwan, picardie, zuid_holland, usa, newdelhi, somerset, ireland_and_northern_ireland, palma, north_dakota, poitou_charentes, baghdad, maine, georgia, stuttgart_regbez, madagascar, mittelfranken, istanbul, mazowieckie, iran, languedoc_roussillon, europe, angola, ruegen, genf, montpellier, puerto_rico, great_britain, kanto, isle_of_man, corse, chad, japan, nepal, us_south, mississippi, curitiba, nigeria, india, orlando, helsinki_region_pbf, kansas, samoa, newfoundland_and_labrador, hokkaido, philippines, nord_est, sacramento, sarajewo, durham, warenmueritz, glasgow, portugal, scotland, isole, bremerhaven, sheffield, austin, finland, flensburg, central_america, cornwall, london, shropshire, fortcollins, monaco, bretagne, amsterdam, new_brunswick, comores, kyushu, botswana, marshall_islands, kyrgyzstan, ivory_coast, lithuania, latvia, nebraska, duisburg, morocco, karlsruhe_regbez, uruguay, halle, bosnia_herzegovina, greenland, huntsville, tajikistan, goettingen, indonesia, katowice, solomon_islands, hamm, neworleans, strassburg, england, connecticut, davis, osnabrueck, dorset, podlaskie, azores, michigan, fiji, kentucky, central_african_republic, stockholm, sanjose, zagreb, hampshire, lisbon, armenia, auvergne, podkarpackie, slovakia, madrid, pakistan, graz, iowa, gera, oxfordshire, perth, sydney, capetown, alsace, cheshire, norway, south_dakota, seoul, warminsko_mazurskie, basel, buenosaires, toulouse, merseyside, karlsruhe, freiburg_regbez, alexandria, northwestern_fed_district, goerlitz, gliwice, guinea, kansai, lesotho, edinburgh, colmar, manchester, newyorkcity, us_west, sachsen, lausanne, dresden, israel_and_palestine, north_carolina, libya, eritrea, niue, chicago, guadeloupe, braunschweig, west_yorkshire, faroe_islands, wisconsin, haute_normandie, canberra, alabama, albania, micronesia, opolskie, erfurt, kenya, koeln, yemen, mecklenburg_vorpommern, guatemala, asia, south_carolina, ukraine, franche_comte, oberfranken, wyoming, mauritius, albuquerque, mozambique, hungary, new_zealand, liverpool, oklahoma, oberbayern, saint_helena_ascension_and_tristan_da_cunha, mexicocity, budapest, aquitaine, muenchen, toronto, egypt, bordeaux, equatorial_guinea, malawi, minnesota, ohio, alaska, czech_republic, wiltshire, duesseldorf_regbez, central_fed_district, craterlake, luxemburg, lebanon, tonga, cottbus, bogota, portoalegre, midi_pyrenees, lancashire, spain, nova_scotia, texas, china, phnompenh, limousin, yukon, tennessee, us_midwest, helsinki, singapore, canary_islands, tuebingen_regbez, aarhus, centro_oeste, bremen, zachodniopomorskie, new_york, bonn, tanzania, baden_wuerttemberg, lubelskie, greater_manchester, south_africa, azerbaijan, papua_new_guinea, warsaw, laos, ethiopia, sweden, ile_de_france, zuerich, ottawa, somalia, champagne_ardenne, schleswig_holstein, cameroon, muenster_regbez, santiago, south_africa_and_lesotho, portland, south_korea, derbyshire, liechtenstein, bruessel, arizona, nuernberg, district_of_columbia, rheinland_pfalz, chile, tucson, austria, nevada, madison, eugene, moscow, muenster, manitoba, denver, chubu, szczecin, us_northeast, south_sudan, belize, iraq, turkmenistan, tilburg, netherlands, luebeck, liberia, usedom, calgary, tyne_and_wear, myanmar, moenchengladbach, konstanz, buckinghamshire, martinique, swaziland, reunion, australia_oceania, burundi, ural_fed_district, goeteborg, east_sussex, malmoe, indiana, italy, denmark, sierra_leone, wroclaw, lubuskie, sri_lanka, cork, herefordshire, cook_islands, jena, argentina, wuppertal, kiel, kosovo, eindhoven, wien, kassel, crimean_fed_district, west_virginia, serbia, sanktpetersburg, west_sussex, heilbronn, maldives, hertogenbosch, oslo, gent, saskatchewan, saigon",
     "output_type": "error",
     "traceback": [
      "\u001b[0;31m---------------------------------------------------------------------------\u001b[0m",
      "\u001b[0;31mValueError\u001b[0m                                Traceback (most recent call last)",
      "\u001b[0;32m<timed exec>\u001b[0m in \u001b[0;36m<module>\u001b[0;34m\u001b[0m\n",
      "\u001b[0;32m~/miniconda3/envs/pyrosm/lib/python3.7/site-packages/pyrosm/data/__init__.py\u001b[0m in \u001b[0;36mget_data\u001b[0;34m(dataset, update, directory)\u001b[0m\n\u001b[1;32m    154\u001b[0m         \u001b[0mmsg\u001b[0m \u001b[0;34m=\u001b[0m \u001b[0;34m\"The dataset '{data}' is not available. \"\u001b[0m\u001b[0;34m.\u001b[0m\u001b[0mformat\u001b[0m\u001b[0;34m(\u001b[0m\u001b[0mdata\u001b[0m\u001b[0;34m=\u001b[0m\u001b[0mdataset\u001b[0m\u001b[0;34m)\u001b[0m\u001b[0;34m\u001b[0m\u001b[0;34m\u001b[0m\u001b[0m\n\u001b[1;32m    155\u001b[0m         \u001b[0mmsg\u001b[0m \u001b[0;34m+=\u001b[0m \u001b[0;34m\"Available datasets are {}\"\u001b[0m\u001b[0;34m.\u001b[0m\u001b[0mformat\u001b[0m\u001b[0;34m(\u001b[0m\u001b[0;34m\", \"\u001b[0m\u001b[0;34m.\u001b[0m\u001b[0mjoin\u001b[0m\u001b[0;34m(\u001b[0m\u001b[0msources\u001b[0m\u001b[0;34m.\u001b[0m\u001b[0m_all_sources\u001b[0m\u001b[0;34m)\u001b[0m\u001b[0;34m)\u001b[0m\u001b[0;34m\u001b[0m\u001b[0;34m\u001b[0m\u001b[0m\n\u001b[0;32m--> 156\u001b[0;31m         \u001b[0;32mraise\u001b[0m \u001b[0mValueError\u001b[0m\u001b[0;34m(\u001b[0m\u001b[0mmsg\u001b[0m\u001b[0;34m)\u001b[0m\u001b[0;34m\u001b[0m\u001b[0;34m\u001b[0m\u001b[0m\n\u001b[0m\u001b[1;32m    157\u001b[0m \u001b[0;34m\u001b[0m\u001b[0m\n\u001b[1;32m    158\u001b[0m \u001b[0;34m\u001b[0m\u001b[0m\n",
      "\u001b[0;31mValueError\u001b[0m: The dataset 'nonthaburi' is not available. Available datasets are belarus, santabarbara, corsica, limburg, cambridgema, mayotte, salzburg, augsburg, lakegarda, waterloo, guyane, switzerland, kazakhstan, dessau, freiburg, benin, afghanistan, idaho, volga_fed_district, lyon, rotterdam, flevoland, stuttgart, mainz, trondheim, hamburg, tallinn, sudeste, sao_tome_and_principe, sudan, oregon, lapaz, mexico, chugoku, cambodia, arnhem, hertfordshire, paris, lorraine, germany, memphis, centro, miami, santacruz, detmold_regbez, sul, southern_california, lodzkie, prince_edward_island, pennsylvania, leicestershire, bangladesh, ghana, auckland, colombia, seattle, wuerzburg, bombay, cusco, romania, vanuatu, halifax, west_midlands, mannheim, kaiserslautern, iceland, berlin, kiew, gabon, koeln_regbez, alberta, colorado, worcestershire, kent, zambia, birmingham, groningen, saarland, south_fed_district, venezuela, mongolia, leipzig, beirut, rhone_alpes, mali, south_america, malopolskie, rwanda, centre, new_hampshire, turin, providence, maryland, congo_brazzaville, gcc_states, pomorskie, washington, baku, paraguay, laplata, rostock, brazil, denhaag, us_pacific, essex, kujawsko_pomorskie, far_eastern_fed_district, hessen, nauru, magdeburg, porto, bulgaria, northamptonshire, emden, oldenburg, brandenburg, belgium, clermontferrand, noord_brabant, beijing, sanfrancisco, ulm, north_korea, suffolk, bern, tehran, corvallis, kiribati, bochum, virginia, isle_of_wight, dublin, balaton, aachen, provence_alpes_cote_d_azur, montenegro, linz, canada, riga, missouri, tunisia, northwest_territories, nottinghamshire, cuba, congo_democratic_republic, france, peru, maastricht, devon, bielefeld, syria, hannover, louisiana, jerusalem, oberpfalz, arnsberg_regbez, innsbruck, thueringen, wielkopolskie, boulder, chemnitz, estonia, johannesburg, africa, uganda, gdansk, greater_london, north_yorkshire, uzbekistan, norfolk, overijssel, djibouti, brno, melbourne, frankfurtoder, kaunas, bedfordshire, berkshire, montana, ostrava, tokyo, berkeley, ulanbator, barcelona, utah, malaysia_singapore_brunei, oranienburg, frankfurt, greece, schwaben, rutland, regensburg, montevideo, jamaica, dortmund, siberian_fed_district, unterfranken, norte, brisbane, bristol, staffordshire, portlandme, dolnoslaskie, niederbayern, south_yorkshire, tuvalu, darmstadt, togo, cumbria, sofia, swietokrzyskie, koblenz, victoria, croatia, algeria, warwickshire, suriname, illinois, erlangen, vermont, moldova, cairo, nord_pas_de_calais, sucre, luxembourg, thailand, riodejaneiro, friesland, cape_verde, namibia, cambridge, bolivia, zimbabwe, cracow, saarbruecken, australia, drenthe, bourgogne, adelaide, senegal_and_gambia, british_columbia, shikoku, malta, wales, turkey, utrecht, massachusetts, washingtondc, nunavut, stockton, philadelphia, bayern, basse_normandie, sachsen_anhalt, cyprus, copenhagen, vietnam, paderborn, marseille, pays_de_la_loire, surrey, antarctica, sud, delaware, lima, nordrhein_westfalen, leeds, east_yorkshire_with_hull, lincolnshire, northumberland, kaliningrad, poznan, slaskie, andorra, brandenburghavel, niger, cambridgeshire, mauritania, antwerpen, prag, seychelles, gelderland, florida, new_jersey, burkina_faso, ljubljana, nord_ovest, slovenia, schwerin, macedonia, paloalto, tohoku, duesseldorf, new_mexico, poland, haiti_and_domrep, ecuador, lodz, quebec, new_caledonia, guinea_bissau, north_caucasus_fed_district, zeeland, bahamas, bamberg, north_america, noord_holland, niedersachsen, bangkok, nordeste, russia, ontario, palau, montreal, nicaragua, dallas, gloucestershire, northern_california, potsdam, jordan, bhutan, arkansas, vancouver, hawaii, rhode_island, bruegge, taiwan, picardie, zuid_holland, usa, newdelhi, somerset, ireland_and_northern_ireland, palma, north_dakota, poitou_charentes, baghdad, maine, georgia, stuttgart_regbez, madagascar, mittelfranken, istanbul, mazowieckie, iran, languedoc_roussillon, europe, angola, ruegen, genf, montpellier, puerto_rico, great_britain, kanto, isle_of_man, corse, chad, japan, nepal, us_south, mississippi, curitiba, nigeria, india, orlando, helsinki_region_pbf, kansas, samoa, newfoundland_and_labrador, hokkaido, philippines, nord_est, sacramento, sarajewo, durham, warenmueritz, glasgow, portugal, scotland, isole, bremerhaven, sheffield, austin, finland, flensburg, central_america, cornwall, london, shropshire, fortcollins, monaco, bretagne, amsterdam, new_brunswick, comores, kyushu, botswana, marshall_islands, kyrgyzstan, ivory_coast, lithuania, latvia, nebraska, duisburg, morocco, karlsruhe_regbez, uruguay, halle, bosnia_herzegovina, greenland, huntsville, tajikistan, goettingen, indonesia, katowice, solomon_islands, hamm, neworleans, strassburg, england, connecticut, davis, osnabrueck, dorset, podlaskie, azores, michigan, fiji, kentucky, central_african_republic, stockholm, sanjose, zagreb, hampshire, lisbon, armenia, auvergne, podkarpackie, slovakia, madrid, pakistan, graz, iowa, gera, oxfordshire, perth, sydney, capetown, alsace, cheshire, norway, south_dakota, seoul, warminsko_mazurskie, basel, buenosaires, toulouse, merseyside, karlsruhe, freiburg_regbez, alexandria, northwestern_fed_district, goerlitz, gliwice, guinea, kansai, lesotho, edinburgh, colmar, manchester, newyorkcity, us_west, sachsen, lausanne, dresden, israel_and_palestine, north_carolina, libya, eritrea, niue, chicago, guadeloupe, braunschweig, west_yorkshire, faroe_islands, wisconsin, haute_normandie, canberra, alabama, albania, micronesia, opolskie, erfurt, kenya, koeln, yemen, mecklenburg_vorpommern, guatemala, asia, south_carolina, ukraine, franche_comte, oberfranken, wyoming, mauritius, albuquerque, mozambique, hungary, new_zealand, liverpool, oklahoma, oberbayern, saint_helena_ascension_and_tristan_da_cunha, mexicocity, budapest, aquitaine, muenchen, toronto, egypt, bordeaux, equatorial_guinea, malawi, minnesota, ohio, alaska, czech_republic, wiltshire, duesseldorf_regbez, central_fed_district, craterlake, luxemburg, lebanon, tonga, cottbus, bogota, portoalegre, midi_pyrenees, lancashire, spain, nova_scotia, texas, china, phnompenh, limousin, yukon, tennessee, us_midwest, helsinki, singapore, canary_islands, tuebingen_regbez, aarhus, centro_oeste, bremen, zachodniopomorskie, new_york, bonn, tanzania, baden_wuerttemberg, lubelskie, greater_manchester, south_africa, azerbaijan, papua_new_guinea, warsaw, laos, ethiopia, sweden, ile_de_france, zuerich, ottawa, somalia, champagne_ardenne, schleswig_holstein, cameroon, muenster_regbez, santiago, south_africa_and_lesotho, portland, south_korea, derbyshire, liechtenstein, bruessel, arizona, nuernberg, district_of_columbia, rheinland_pfalz, chile, tucson, austria, nevada, madison, eugene, moscow, muenster, manitoba, denver, chubu, szczecin, us_northeast, south_sudan, belize, iraq, turkmenistan, tilburg, netherlands, luebeck, liberia, usedom, calgary, tyne_and_wear, myanmar, moenchengladbach, konstanz, buckinghamshire, martinique, swaziland, reunion, australia_oceania, burundi, ural_fed_district, goeteborg, east_sussex, malmoe, indiana, italy, denmark, sierra_leone, wroclaw, lubuskie, sri_lanka, cork, herefordshire, cook_islands, jena, argentina, wuppertal, kiel, kosovo, eindhoven, wien, kassel, crimean_fed_district, west_virginia, serbia, sanktpetersburg, west_sussex, heilbronn, maldives, hertogenbosch, oslo, gent, saskatchewan, saigon"
     ]
    }
   ],
   "source": [
    "%%time\n",
    "dfGas=pd.DataFrame()\n",
    "count=0\n",
    "for province in provinceList:\n",
    "    count+=1\n",
    "    print(count,' province : ',province)\n",
    "    osm = OSM(get_data(province))\n",
    "    print(' Get POI 1 ')\n",
    "    nodes, edges = osm.get_network( nodes=True)\n",
    "    print(' Get POI ')\n",
    "    Gas = osm.get_pois(custom_filter={\"amenity\": [\"fuel\"]})\n",
    "    print(' Get Geometries ')\n",
    "    Gas[\"geometry\"] = Gas.centroid\n",
    "    Gas = Gas.dropna(subset=[\"lon\", \"lat\"])\n",
    "    Gas['Province']=province\n",
    "    Gas['DBCreatedAt']=datetime.today().strftime('%Y-%m-%d %H:%M:%S')\n",
    "    print(len(Gas),' --  Gas : ',Gas.head(3))\n",
    "    dfGas=dfGas.append(Gas).reset_index(drop=True)\n",
    "\n",
    "print(len(dfGas), ' -- dfGas -- ',dfGas)\n",
    "filename='GasStation_Thailand.parquet'\n",
    "dfGas.to_parquet(cwd+'/POI/'+filename)"
   ]
  }
 ],
 "metadata": {
  "kernelspec": {
   "display_name": "pyrosm",
   "language": "python",
   "name": "pyrosm"
  },
  "language_info": {
   "codemirror_mode": {
    "name": "ipython",
    "version": 3
   },
   "file_extension": ".py",
   "mimetype": "text/x-python",
   "name": "python",
   "nbconvert_exporter": "python",
   "pygments_lexer": "ipython3",
   "version": "3.7.10"
  }
 },
 "nbformat": 4,
 "nbformat_minor": 5
}
