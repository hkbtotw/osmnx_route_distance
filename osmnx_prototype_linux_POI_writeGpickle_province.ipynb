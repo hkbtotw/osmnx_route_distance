{
 "cells": [
  {
   "cell_type": "code",
   "execution_count": 48,
   "id": "9eb0855b",
   "metadata": {},
   "outputs": [],
   "source": [
    "import osmnx as ox \n",
    "import networkx as nx \n",
    "import matplotlib.pyplot as plt\n",
    "import matplotlib\n",
    "matplotlib.use('Agg')\n",
    "from descartes import PolygonPatch\n",
    "from datetime import datetime, date, timedelta\n",
    "import os\n",
    "import pandas as pd\n",
    "import warnings\n",
    "%matplotlib inline\n",
    "#import graphics\n",
    "\n",
    "warnings.filterwarnings('ignore')"
   ]
  },
  {
   "cell_type": "code",
   "execution_count": 49,
   "id": "fe48b397",
   "metadata": {},
   "outputs": [
    {
     "name": "stdout",
     "output_type": "stream",
     "text": [
      "Current working directory: /home/hkbtotw/Project2021/osmnx\n"
     ]
    }
   ],
   "source": [
    "cwd=os.getcwd()\n",
    "print(\"Current working directory: {0}\".format(cwd))"
   ]
  },
  {
   "cell_type": "code",
   "execution_count": 50,
   "id": "9000b2aa",
   "metadata": {},
   "outputs": [],
   "source": [
    "provinceList=[\n",
    "    'Bangkok','Nonthaburi' ,'Pathum thani','Samut Prakan'\n",
    "    ,'Chachoengsao','Chanthaburi','Chon Buri','Nakhon Nayok','Rayong','Sa Kaeo','Trat','Prachin Buri'\n",
    "    ,'AMNAT CHAROEN','BURI RAM','NAKHON RATCHASIMA','ROI ET','SURIN','UBON RATCHATHANI','YASOTHON','SI SA KET'\n",
    "    ,'CHAIYAPHUM','KALASIN','KHON KAEN','LOEI','MAHA SARAKHAM','MUKDAHAN','NAKHON PHANOM','NONG BUA LAMPHU','NONG KHAI','SAKON NAKHON','UDON THANI','BUENG KAN'\n",
    "    ,'CHIANG MAI','CHIANG RAI','LAMPANG','LAMPHUN','MAE HONG SON','NAN','PHAYAO','PHITSANULOK','PHRAE','SUKHOTHAI'\n",
    "    ,'TAK','UTTARADIT'\n",
    "    ,'ANG THONG','KAMPHAENG PHET','LOP BURI','NAKHON SAWAN','PHETCHABUN','PHICHIT','PHRA NAKHON SI AYUTTHAYA','SARABURI','SING BURI','UTHAI THANI','CHAI NAT'\n",
    "    ,'KANCHANABURI','NAKHON PATHOM'\n",
    "    ,'PHETCHABURI','PRACHUAP KHIRI KHAN','RATCHABURI','SAMUT SAKHON','SAMUT SONGKHRAM'\n",
    "    ,'Suphan Buri'\n",
    "    ,'CHUMPHON','KRABI','NAKHON SI THAMMARAT','NARATHIWAT','PATTANI','PHANGNGA','PHATTHALUNG','PHUKET','RANONG','SATUN'\n",
    "    ,'SONGKHLA','SURAT THANI','TRANG','YALA'\n",
    "    ]\n",
    "    "
   ]
  },
  {
   "cell_type": "code",
   "execution_count": null,
   "id": "88e3e572",
   "metadata": {},
   "outputs": [
    {
     "name": "stdout",
     "output_type": "stream",
     "text": [
      "1  province :  Bangkok\n",
      " --- process province --- POI  Bangkok  ::  2021-08-19 15:50:32\n",
      "2  province :  Nonthaburi\n",
      " --- process province --- POI  Nonthaburi  ::  2021-08-19 15:50:33\n"
     ]
    },
    {
     "name": "stderr",
     "output_type": "stream",
     "text": [
      "/home/hkbtotw/miniconda3/envs/ox/lib/python3.9/site-packages/geopandas/_vectorized.py:142: DeprecationWarning: An exception was ignored while fetching the attribute `__array_interface__` from an object of type 'Polygon'.  With the exception of `AttributeError` NumPy will always raise this exception in the future.  Raise this deprecation warning to see the original exception. (Warning added NumPy 1.21)\n",
      "  aout[:] = out\n",
      "/home/hkbtotw/miniconda3/envs/ox/lib/python3.9/site-packages/geopandas/_vectorized.py:142: DeprecationWarning: An exception was ignored while fetching the attribute `__array_interface__` from an object of type 'MultiPolygon'.  With the exception of `AttributeError` NumPy will always raise this exception in the future.  Raise this deprecation warning to see the original exception. (Warning added NumPy 1.21)\n",
      "  aout[:] = out\n"
     ]
    },
    {
     "name": "stdout",
     "output_type": "stream",
     "text": [
      "3  province :  Pathum thani\n",
      " --- process province --- POI  Pathum thani  ::  2021-08-19 15:50:34\n"
     ]
    },
    {
     "name": "stderr",
     "output_type": "stream",
     "text": [
      "/home/hkbtotw/miniconda3/envs/ox/lib/python3.9/site-packages/geopandas/_vectorized.py:142: DeprecationWarning: An exception was ignored while fetching the attribute `__array_interface__` from an object of type 'Polygon'.  With the exception of `AttributeError` NumPy will always raise this exception in the future.  Raise this deprecation warning to see the original exception. (Warning added NumPy 1.21)\n",
      "  aout[:] = out\n",
      "/home/hkbtotw/miniconda3/envs/ox/lib/python3.9/site-packages/geopandas/_vectorized.py:142: DeprecationWarning: An exception was ignored while fetching the attribute `__array_interface__` from an object of type 'MultiPolygon'.  With the exception of `AttributeError` NumPy will always raise this exception in the future.  Raise this deprecation warning to see the original exception. (Warning added NumPy 1.21)\n",
      "  aout[:] = out\n"
     ]
    },
    {
     "name": "stdout",
     "output_type": "stream",
     "text": [
      "4  province :  Samut Prakan\n",
      " --- process province --- POI  Samut Prakan  ::  2021-08-19 15:50:41\n"
     ]
    },
    {
     "name": "stderr",
     "output_type": "stream",
     "text": [
      "/home/hkbtotw/miniconda3/envs/ox/lib/python3.9/site-packages/geopandas/_vectorized.py:142: DeprecationWarning: An exception was ignored while fetching the attribute `__array_interface__` from an object of type 'Polygon'.  With the exception of `AttributeError` NumPy will always raise this exception in the future.  Raise this deprecation warning to see the original exception. (Warning added NumPy 1.21)\n",
      "  aout[:] = out\n",
      "/home/hkbtotw/miniconda3/envs/ox/lib/python3.9/site-packages/geopandas/_vectorized.py:142: DeprecationWarning: An exception was ignored while fetching the attribute `__array_interface__` from an object of type 'MultiPolygon'.  With the exception of `AttributeError` NumPy will always raise this exception in the future.  Raise this deprecation warning to see the original exception. (Warning added NumPy 1.21)\n",
      "  aout[:] = out\n"
     ]
    },
    {
     "name": "stdout",
     "output_type": "stream",
     "text": [
      "5  province :  Chachoengsao\n",
      " --- process province --- POI  Chachoengsao  ::  2021-08-19 15:50:49\n"
     ]
    },
    {
     "name": "stderr",
     "output_type": "stream",
     "text": [
      "/home/hkbtotw/miniconda3/envs/ox/lib/python3.9/site-packages/geopandas/_vectorized.py:142: DeprecationWarning: An exception was ignored while fetching the attribute `__array_interface__` from an object of type 'Polygon'.  With the exception of `AttributeError` NumPy will always raise this exception in the future.  Raise this deprecation warning to see the original exception. (Warning added NumPy 1.21)\n",
      "  aout[:] = out\n",
      "/home/hkbtotw/miniconda3/envs/ox/lib/python3.9/site-packages/geopandas/_vectorized.py:142: DeprecationWarning: An exception was ignored while fetching the attribute `__array_interface__` from an object of type 'MultiPolygon'.  With the exception of `AttributeError` NumPy will always raise this exception in the future.  Raise this deprecation warning to see the original exception. (Warning added NumPy 1.21)\n",
      "  aout[:] = out\n"
     ]
    },
    {
     "name": "stdout",
     "output_type": "stream",
     "text": [
      "6  province :  Chanthaburi\n",
      " --- process province --- POI  Chanthaburi  ::  2021-08-19 16:06:32\n"
     ]
    },
    {
     "name": "stderr",
     "output_type": "stream",
     "text": [
      "/home/hkbtotw/miniconda3/envs/ox/lib/python3.9/site-packages/geopandas/_vectorized.py:142: DeprecationWarning: An exception was ignored while fetching the attribute `__array_interface__` from an object of type 'Polygon'.  With the exception of `AttributeError` NumPy will always raise this exception in the future.  Raise this deprecation warning to see the original exception. (Warning added NumPy 1.21)\n",
      "  aout[:] = out\n",
      "/home/hkbtotw/miniconda3/envs/ox/lib/python3.9/site-packages/geopandas/_vectorized.py:142: DeprecationWarning: An exception was ignored while fetching the attribute `__array_interface__` from an object of type 'MultiPolygon'.  With the exception of `AttributeError` NumPy will always raise this exception in the future.  Raise this deprecation warning to see the original exception. (Warning added NumPy 1.21)\n",
      "  aout[:] = out\n"
     ]
    },
    {
     "name": "stdout",
     "output_type": "stream",
     "text": [
      "7  province :  Chon Buri\n",
      " --- process province --- POI  Chon Buri  ::  2021-08-19 16:22:14\n"
     ]
    },
    {
     "name": "stderr",
     "output_type": "stream",
     "text": [
      "/home/hkbtotw/miniconda3/envs/ox/lib/python3.9/site-packages/geopandas/_vectorized.py:142: DeprecationWarning: An exception was ignored while fetching the attribute `__array_interface__` from an object of type 'Polygon'.  With the exception of `AttributeError` NumPy will always raise this exception in the future.  Raise this deprecation warning to see the original exception. (Warning added NumPy 1.21)\n",
      "  aout[:] = out\n",
      "/home/hkbtotw/miniconda3/envs/ox/lib/python3.9/site-packages/geopandas/_vectorized.py:142: DeprecationWarning: An exception was ignored while fetching the attribute `__array_interface__` from an object of type 'MultiPolygon'.  With the exception of `AttributeError` NumPy will always raise this exception in the future.  Raise this deprecation warning to see the original exception. (Warning added NumPy 1.21)\n",
      "  aout[:] = out\n"
     ]
    },
    {
     "name": "stdout",
     "output_type": "stream",
     "text": [
      "8  province :  Nakhon Nayok\n",
      " --- process province --- POI  Nakhon Nayok  ::  2021-08-19 16:43:13\n"
     ]
    },
    {
     "name": "stderr",
     "output_type": "stream",
     "text": [
      "/home/hkbtotw/miniconda3/envs/ox/lib/python3.9/site-packages/geopandas/_vectorized.py:142: DeprecationWarning: An exception was ignored while fetching the attribute `__array_interface__` from an object of type 'Polygon'.  With the exception of `AttributeError` NumPy will always raise this exception in the future.  Raise this deprecation warning to see the original exception. (Warning added NumPy 1.21)\n",
      "  aout[:] = out\n",
      "/home/hkbtotw/miniconda3/envs/ox/lib/python3.9/site-packages/geopandas/_vectorized.py:142: DeprecationWarning: An exception was ignored while fetching the attribute `__array_interface__` from an object of type 'MultiPolygon'.  With the exception of `AttributeError` NumPy will always raise this exception in the future.  Raise this deprecation warning to see the original exception. (Warning added NumPy 1.21)\n",
      "  aout[:] = out\n"
     ]
    },
    {
     "name": "stdout",
     "output_type": "stream",
     "text": [
      "9  province :  Rayong\n",
      " --- process province --- POI  Rayong  ::  2021-08-19 16:43:20\n"
     ]
    },
    {
     "name": "stderr",
     "output_type": "stream",
     "text": [
      "/home/hkbtotw/miniconda3/envs/ox/lib/python3.9/site-packages/geopandas/_vectorized.py:142: DeprecationWarning: An exception was ignored while fetching the attribute `__array_interface__` from an object of type 'Polygon'.  With the exception of `AttributeError` NumPy will always raise this exception in the future.  Raise this deprecation warning to see the original exception. (Warning added NumPy 1.21)\n",
      "  aout[:] = out\n",
      "/home/hkbtotw/miniconda3/envs/ox/lib/python3.9/site-packages/geopandas/_vectorized.py:142: DeprecationWarning: An exception was ignored while fetching the attribute `__array_interface__` from an object of type 'MultiPolygon'.  With the exception of `AttributeError` NumPy will always raise this exception in the future.  Raise this deprecation warning to see the original exception. (Warning added NumPy 1.21)\n",
      "  aout[:] = out\n"
     ]
    },
    {
     "name": "stdout",
     "output_type": "stream",
     "text": [
      "10  province :  Sa Kaeo\n",
      " --- process province --- POI  Sa Kaeo  ::  2021-08-19 16:53:38\n"
     ]
    },
    {
     "name": "stderr",
     "output_type": "stream",
     "text": [
      "/home/hkbtotw/miniconda3/envs/ox/lib/python3.9/site-packages/geopandas/_vectorized.py:142: DeprecationWarning: An exception was ignored while fetching the attribute `__array_interface__` from an object of type 'Polygon'.  With the exception of `AttributeError` NumPy will always raise this exception in the future.  Raise this deprecation warning to see the original exception. (Warning added NumPy 1.21)\n",
      "  aout[:] = out\n",
      "/home/hkbtotw/miniconda3/envs/ox/lib/python3.9/site-packages/geopandas/_vectorized.py:142: DeprecationWarning: An exception was ignored while fetching the attribute `__array_interface__` from an object of type 'MultiPolygon'.  With the exception of `AttributeError` NumPy will always raise this exception in the future.  Raise this deprecation warning to see the original exception. (Warning added NumPy 1.21)\n",
      "  aout[:] = out\n"
     ]
    },
    {
     "name": "stdout",
     "output_type": "stream",
     "text": [
      "11  province :  Trat\n",
      " --- process province --- POI  Trat  ::  2021-08-19 17:14:38\n"
     ]
    },
    {
     "name": "stderr",
     "output_type": "stream",
     "text": [
      "/home/hkbtotw/miniconda3/envs/ox/lib/python3.9/site-packages/geopandas/_vectorized.py:142: DeprecationWarning: An exception was ignored while fetching the attribute `__array_interface__` from an object of type 'Polygon'.  With the exception of `AttributeError` NumPy will always raise this exception in the future.  Raise this deprecation warning to see the original exception. (Warning added NumPy 1.21)\n",
      "  aout[:] = out\n",
      "/home/hkbtotw/miniconda3/envs/ox/lib/python3.9/site-packages/geopandas/_vectorized.py:142: DeprecationWarning: An exception was ignored while fetching the attribute `__array_interface__` from an object of type 'MultiPolygon'.  With the exception of `AttributeError` NumPy will always raise this exception in the future.  Raise this deprecation warning to see the original exception. (Warning added NumPy 1.21)\n",
      "  aout[:] = out\n"
     ]
    },
    {
     "name": "stdout",
     "output_type": "stream",
     "text": [
      "12  province :  Prachin Buri\n",
      " --- process province --- POI  Prachin Buri  ::  2021-08-19 17:35:15\n",
      " --- incomplete province ---  Prachin Buri\n",
      "13  province :  AMNAT CHAROEN\n",
      " --- process province --- POI  AMNAT CHAROEN  ::  2021-08-19 17:35:17\n"
     ]
    },
    {
     "name": "stderr",
     "output_type": "stream",
     "text": [
      "/home/hkbtotw/miniconda3/envs/ox/lib/python3.9/site-packages/geopandas/_vectorized.py:142: DeprecationWarning: An exception was ignored while fetching the attribute `__array_interface__` from an object of type 'Polygon'.  With the exception of `AttributeError` NumPy will always raise this exception in the future.  Raise this deprecation warning to see the original exception. (Warning added NumPy 1.21)\n",
      "  aout[:] = out\n",
      "/home/hkbtotw/miniconda3/envs/ox/lib/python3.9/site-packages/geopandas/_vectorized.py:142: DeprecationWarning: An exception was ignored while fetching the attribute `__array_interface__` from an object of type 'MultiPolygon'.  With the exception of `AttributeError` NumPy will always raise this exception in the future.  Raise this deprecation warning to see the original exception. (Warning added NumPy 1.21)\n",
      "  aout[:] = out\n"
     ]
    },
    {
     "name": "stdout",
     "output_type": "stream",
     "text": [
      "14  province :  BURI RAM\n",
      " --- process province --- POI  BURI RAM  ::  2021-08-19 17:41:00\n"
     ]
    },
    {
     "name": "stderr",
     "output_type": "stream",
     "text": [
      "/home/hkbtotw/miniconda3/envs/ox/lib/python3.9/site-packages/geopandas/_vectorized.py:142: DeprecationWarning: An exception was ignored while fetching the attribute `__array_interface__` from an object of type 'Polygon'.  With the exception of `AttributeError` NumPy will always raise this exception in the future.  Raise this deprecation warning to see the original exception. (Warning added NumPy 1.21)\n",
      "  aout[:] = out\n",
      "/home/hkbtotw/miniconda3/envs/ox/lib/python3.9/site-packages/geopandas/_vectorized.py:142: DeprecationWarning: An exception was ignored while fetching the attribute `__array_interface__` from an object of type 'MultiPolygon'.  With the exception of `AttributeError` NumPy will always raise this exception in the future.  Raise this deprecation warning to see the original exception. (Warning added NumPy 1.21)\n",
      "  aout[:] = out\n"
     ]
    },
    {
     "name": "stdout",
     "output_type": "stream",
     "text": [
      "15  province :  NAKHON RATCHASIMA\n",
      " --- process province --- POI  NAKHON RATCHASIMA  ::  2021-08-19 18:07:07\n"
     ]
    },
    {
     "name": "stderr",
     "output_type": "stream",
     "text": [
      "/home/hkbtotw/miniconda3/envs/ox/lib/python3.9/site-packages/geopandas/_vectorized.py:142: DeprecationWarning: An exception was ignored while fetching the attribute `__array_interface__` from an object of type 'Polygon'.  With the exception of `AttributeError` NumPy will always raise this exception in the future.  Raise this deprecation warning to see the original exception. (Warning added NumPy 1.21)\n",
      "  aout[:] = out\n",
      "/home/hkbtotw/miniconda3/envs/ox/lib/python3.9/site-packages/geopandas/_vectorized.py:142: DeprecationWarning: An exception was ignored while fetching the attribute `__array_interface__` from an object of type 'MultiPolygon'.  With the exception of `AttributeError` NumPy will always raise this exception in the future.  Raise this deprecation warning to see the original exception. (Warning added NumPy 1.21)\n",
      "  aout[:] = out\n"
     ]
    },
    {
     "name": "stdout",
     "output_type": "stream",
     "text": [
      "16  province :  ROI ET\n",
      " --- process province --- POI  ROI ET  ::  2021-08-19 18:46:01\n"
     ]
    },
    {
     "name": "stderr",
     "output_type": "stream",
     "text": [
      "/home/hkbtotw/miniconda3/envs/ox/lib/python3.9/site-packages/geopandas/_vectorized.py:142: DeprecationWarning: An exception was ignored while fetching the attribute `__array_interface__` from an object of type 'Polygon'.  With the exception of `AttributeError` NumPy will always raise this exception in the future.  Raise this deprecation warning to see the original exception. (Warning added NumPy 1.21)\n",
      "  aout[:] = out\n",
      "/home/hkbtotw/miniconda3/envs/ox/lib/python3.9/site-packages/geopandas/_vectorized.py:142: DeprecationWarning: An exception was ignored while fetching the attribute `__array_interface__` from an object of type 'MultiPolygon'.  With the exception of `AttributeError` NumPy will always raise this exception in the future.  Raise this deprecation warning to see the original exception. (Warning added NumPy 1.21)\n",
      "  aout[:] = out\n"
     ]
    },
    {
     "name": "stdout",
     "output_type": "stream",
     "text": [
      "17  province :  SURIN\n",
      " --- process province --- POI  SURIN  ::  2021-08-19 19:07:48\n"
     ]
    },
    {
     "name": "stderr",
     "output_type": "stream",
     "text": [
      "/home/hkbtotw/miniconda3/envs/ox/lib/python3.9/site-packages/geopandas/_vectorized.py:142: DeprecationWarning: An exception was ignored while fetching the attribute `__array_interface__` from an object of type 'Polygon'.  With the exception of `AttributeError` NumPy will always raise this exception in the future.  Raise this deprecation warning to see the original exception. (Warning added NumPy 1.21)\n",
      "  aout[:] = out\n",
      "/home/hkbtotw/miniconda3/envs/ox/lib/python3.9/site-packages/geopandas/_vectorized.py:142: DeprecationWarning: An exception was ignored while fetching the attribute `__array_interface__` from an object of type 'MultiPolygon'.  With the exception of `AttributeError` NumPy will always raise this exception in the future.  Raise this deprecation warning to see the original exception. (Warning added NumPy 1.21)\n",
      "  aout[:] = out\n"
     ]
    },
    {
     "name": "stdout",
     "output_type": "stream",
     "text": [
      "18  province :  UBON RATCHATHANI\n",
      " --- process province --- POI  UBON RATCHATHANI  ::  2021-08-19 19:07:56\n",
      "19  province :  YASOTHON\n",
      " --- process province --- POI  YASOTHON  ::  2021-08-19 19:46:14\n"
     ]
    },
    {
     "name": "stderr",
     "output_type": "stream",
     "text": [
      "/home/hkbtotw/miniconda3/envs/ox/lib/python3.9/site-packages/geopandas/_vectorized.py:142: DeprecationWarning: An exception was ignored while fetching the attribute `__array_interface__` from an object of type 'Polygon'.  With the exception of `AttributeError` NumPy will always raise this exception in the future.  Raise this deprecation warning to see the original exception. (Warning added NumPy 1.21)\n",
      "  aout[:] = out\n",
      "/home/hkbtotw/miniconda3/envs/ox/lib/python3.9/site-packages/geopandas/_vectorized.py:142: DeprecationWarning: An exception was ignored while fetching the attribute `__array_interface__` from an object of type 'MultiPolygon'.  With the exception of `AttributeError` NumPy will always raise this exception in the future.  Raise this deprecation warning to see the original exception. (Warning added NumPy 1.21)\n",
      "  aout[:] = out\n"
     ]
    },
    {
     "name": "stdout",
     "output_type": "stream",
     "text": [
      "20  province :  SI SA KET\n",
      " --- process province --- POI  SI SA KET  ::  2021-08-19 20:03:20\n",
      " --- incomplete province ---  SI SA KET\n",
      "21  province :  CHAIYAPHUM\n",
      " --- process province --- POI  CHAIYAPHUM  ::  2021-08-19 20:03:22\n"
     ]
    },
    {
     "name": "stderr",
     "output_type": "stream",
     "text": [
      "/home/hkbtotw/miniconda3/envs/ox/lib/python3.9/site-packages/geopandas/_vectorized.py:142: DeprecationWarning: An exception was ignored while fetching the attribute `__array_interface__` from an object of type 'Polygon'.  With the exception of `AttributeError` NumPy will always raise this exception in the future.  Raise this deprecation warning to see the original exception. (Warning added NumPy 1.21)\n",
      "  aout[:] = out\n",
      "/home/hkbtotw/miniconda3/envs/ox/lib/python3.9/site-packages/geopandas/_vectorized.py:142: DeprecationWarning: An exception was ignored while fetching the attribute `__array_interface__` from an object of type 'MultiPolygon'.  With the exception of `AttributeError` NumPy will always raise this exception in the future.  Raise this deprecation warning to see the original exception. (Warning added NumPy 1.21)\n",
      "  aout[:] = out\n"
     ]
    },
    {
     "name": "stdout",
     "output_type": "stream",
     "text": [
      "22  province :  KALASIN\n",
      " --- process province --- POI  KALASIN  ::  2021-08-19 20:34:56\n"
     ]
    },
    {
     "name": "stderr",
     "output_type": "stream",
     "text": [
      "/home/hkbtotw/miniconda3/envs/ox/lib/python3.9/site-packages/geopandas/_vectorized.py:142: DeprecationWarning: An exception was ignored while fetching the attribute `__array_interface__` from an object of type 'Polygon'.  With the exception of `AttributeError` NumPy will always raise this exception in the future.  Raise this deprecation warning to see the original exception. (Warning added NumPy 1.21)\n",
      "  aout[:] = out\n",
      "/home/hkbtotw/miniconda3/envs/ox/lib/python3.9/site-packages/geopandas/_vectorized.py:142: DeprecationWarning: An exception was ignored while fetching the attribute `__array_interface__` from an object of type 'MultiPolygon'.  With the exception of `AttributeError` NumPy will always raise this exception in the future.  Raise this deprecation warning to see the original exception. (Warning added NumPy 1.21)\n",
      "  aout[:] = out\n"
     ]
    },
    {
     "name": "stdout",
     "output_type": "stream",
     "text": [
      "23  province :  KHON KAEN\n",
      " --- process province --- POI  KHON KAEN  ::  2021-08-19 21:03:45\n"
     ]
    },
    {
     "name": "stderr",
     "output_type": "stream",
     "text": [
      "/home/hkbtotw/miniconda3/envs/ox/lib/python3.9/site-packages/geopandas/_vectorized.py:142: DeprecationWarning: An exception was ignored while fetching the attribute `__array_interface__` from an object of type 'Polygon'.  With the exception of `AttributeError` NumPy will always raise this exception in the future.  Raise this deprecation warning to see the original exception. (Warning added NumPy 1.21)\n",
      "  aout[:] = out\n",
      "/home/hkbtotw/miniconda3/envs/ox/lib/python3.9/site-packages/geopandas/_vectorized.py:142: DeprecationWarning: An exception was ignored while fetching the attribute `__array_interface__` from an object of type 'MultiPolygon'.  With the exception of `AttributeError` NumPy will always raise this exception in the future.  Raise this deprecation warning to see the original exception. (Warning added NumPy 1.21)\n",
      "  aout[:] = out\n"
     ]
    },
    {
     "name": "stdout",
     "output_type": "stream",
     "text": [
      "24  province :  LOEI\n",
      " --- process province --- POI  LOEI  ::  2021-08-19 21:40:26\n"
     ]
    },
    {
     "name": "stderr",
     "output_type": "stream",
     "text": [
      "/home/hkbtotw/miniconda3/envs/ox/lib/python3.9/site-packages/geopandas/_vectorized.py:142: DeprecationWarning: An exception was ignored while fetching the attribute `__array_interface__` from an object of type 'Polygon'.  With the exception of `AttributeError` NumPy will always raise this exception in the future.  Raise this deprecation warning to see the original exception. (Warning added NumPy 1.21)\n",
      "  aout[:] = out\n",
      "/home/hkbtotw/miniconda3/envs/ox/lib/python3.9/site-packages/geopandas/_vectorized.py:142: DeprecationWarning: An exception was ignored while fetching the attribute `__array_interface__` from an object of type 'MultiPolygon'.  With the exception of `AttributeError` NumPy will always raise this exception in the future.  Raise this deprecation warning to see the original exception. (Warning added NumPy 1.21)\n",
      "  aout[:] = out\n"
     ]
    },
    {
     "name": "stdout",
     "output_type": "stream",
     "text": [
      "25  province :  MAHA SARAKHAM\n",
      " --- process province --- POI  MAHA SARAKHAM  ::  2021-08-19 22:12:41\n"
     ]
    },
    {
     "name": "stderr",
     "output_type": "stream",
     "text": [
      "/home/hkbtotw/miniconda3/envs/ox/lib/python3.9/site-packages/geopandas/_vectorized.py:142: DeprecationWarning: An exception was ignored while fetching the attribute `__array_interface__` from an object of type 'Polygon'.  With the exception of `AttributeError` NumPy will always raise this exception in the future.  Raise this deprecation warning to see the original exception. (Warning added NumPy 1.21)\n",
      "  aout[:] = out\n",
      "/home/hkbtotw/miniconda3/envs/ox/lib/python3.9/site-packages/geopandas/_vectorized.py:142: DeprecationWarning: An exception was ignored while fetching the attribute `__array_interface__` from an object of type 'MultiPolygon'.  With the exception of `AttributeError` NumPy will always raise this exception in the future.  Raise this deprecation warning to see the original exception. (Warning added NumPy 1.21)\n",
      "  aout[:] = out\n"
     ]
    },
    {
     "name": "stdout",
     "output_type": "stream",
     "text": [
      "26  province :  MUKDAHAN\n",
      " --- process province --- POI  MUKDAHAN  ::  2021-08-19 22:28:20\n"
     ]
    },
    {
     "name": "stderr",
     "output_type": "stream",
     "text": [
      "/home/hkbtotw/miniconda3/envs/ox/lib/python3.9/site-packages/geopandas/_vectorized.py:142: DeprecationWarning: An exception was ignored while fetching the attribute `__array_interface__` from an object of type 'Polygon'.  With the exception of `AttributeError` NumPy will always raise this exception in the future.  Raise this deprecation warning to see the original exception. (Warning added NumPy 1.21)\n",
      "  aout[:] = out\n",
      "/home/hkbtotw/miniconda3/envs/ox/lib/python3.9/site-packages/geopandas/_vectorized.py:142: DeprecationWarning: An exception was ignored while fetching the attribute `__array_interface__` from an object of type 'MultiPolygon'.  With the exception of `AttributeError` NumPy will always raise this exception in the future.  Raise this deprecation warning to see the original exception. (Warning added NumPy 1.21)\n",
      "  aout[:] = out\n"
     ]
    },
    {
     "name": "stdout",
     "output_type": "stream",
     "text": [
      "27  province :  NAKHON PHANOM\n",
      " --- process province --- POI  NAKHON PHANOM  ::  2021-08-19 22:39:16\n"
     ]
    },
    {
     "name": "stderr",
     "output_type": "stream",
     "text": [
      "/home/hkbtotw/miniconda3/envs/ox/lib/python3.9/site-packages/geopandas/_vectorized.py:142: DeprecationWarning: An exception was ignored while fetching the attribute `__array_interface__` from an object of type 'Polygon'.  With the exception of `AttributeError` NumPy will always raise this exception in the future.  Raise this deprecation warning to see the original exception. (Warning added NumPy 1.21)\n",
      "  aout[:] = out\n",
      "/home/hkbtotw/miniconda3/envs/ox/lib/python3.9/site-packages/geopandas/_vectorized.py:142: DeprecationWarning: An exception was ignored while fetching the attribute `__array_interface__` from an object of type 'MultiPolygon'.  With the exception of `AttributeError` NumPy will always raise this exception in the future.  Raise this deprecation warning to see the original exception. (Warning added NumPy 1.21)\n",
      "  aout[:] = out\n"
     ]
    },
    {
     "name": "stdout",
     "output_type": "stream",
     "text": [
      "28  province :  NONG BUA LAMPHU\n",
      " --- process province --- POI  NONG BUA LAMPHU  ::  2021-08-19 23:01:41\n"
     ]
    },
    {
     "name": "stderr",
     "output_type": "stream",
     "text": [
      "/home/hkbtotw/miniconda3/envs/ox/lib/python3.9/site-packages/geopandas/_vectorized.py:142: DeprecationWarning: An exception was ignored while fetching the attribute `__array_interface__` from an object of type 'Polygon'.  With the exception of `AttributeError` NumPy will always raise this exception in the future.  Raise this deprecation warning to see the original exception. (Warning added NumPy 1.21)\n",
      "  aout[:] = out\n",
      "/home/hkbtotw/miniconda3/envs/ox/lib/python3.9/site-packages/geopandas/_vectorized.py:142: DeprecationWarning: An exception was ignored while fetching the attribute `__array_interface__` from an object of type 'MultiPolygon'.  With the exception of `AttributeError` NumPy will always raise this exception in the future.  Raise this deprecation warning to see the original exception. (Warning added NumPy 1.21)\n",
      "  aout[:] = out\n"
     ]
    },
    {
     "name": "stdout",
     "output_type": "stream",
     "text": [
      "29  province :  NONG KHAI\n",
      " --- process province --- POI  NONG KHAI  ::  2021-08-19 23:17:47\n"
     ]
    },
    {
     "name": "stderr",
     "output_type": "stream",
     "text": [
      "/home/hkbtotw/miniconda3/envs/ox/lib/python3.9/site-packages/geopandas/_vectorized.py:142: DeprecationWarning: An exception was ignored while fetching the attribute `__array_interface__` from an object of type 'Polygon'.  With the exception of `AttributeError` NumPy will always raise this exception in the future.  Raise this deprecation warning to see the original exception. (Warning added NumPy 1.21)\n",
      "  aout[:] = out\n",
      "/home/hkbtotw/miniconda3/envs/ox/lib/python3.9/site-packages/geopandas/_vectorized.py:142: DeprecationWarning: An exception was ignored while fetching the attribute `__array_interface__` from an object of type 'MultiPolygon'.  With the exception of `AttributeError` NumPy will always raise this exception in the future.  Raise this deprecation warning to see the original exception. (Warning added NumPy 1.21)\n",
      "  aout[:] = out\n"
     ]
    }
   ],
   "source": [
    "%%time\n",
    "### ref: https://geoffboeing.com/2016/11/osmnx-python-street-networks/   (how to use osmnx)\n",
    "completeProvince=[]\n",
    "incompleteProvince=[]\n",
    "dfGas=pd.DataFrame()\n",
    "count=0\n",
    "for province in provinceList:\n",
    "    count+=1\n",
    "    print(count,' province : ',province)\n",
    "    try:\n",
    "        nowStr=datetime.today().strftime('%Y-%m-%d %H:%M:%S')\n",
    "        print(' --- process province --- POI ', province, ' :: ',nowStr)        \n",
    "        tags = {'amenity':'fuel'}\n",
    "        Gas=ox.geometries_from_place(province, tags=tags);\n",
    "        Gas=pd.DataFrame(Gas);\n",
    "        Gas['Province']=province;\n",
    "        Gas['DBCreatedAt']=datetime.today().strftime('%Y-%m-%d %H:%M:%S') ;\n",
    "        Gas['geometry']=Gas['geometry'].astype(str);\n",
    "        #print(len(Gas),' -- gas : ',Gas.head(10), ' ---- ',Gas.columns)     \n",
    "        filename='GasStation_'+province+'.parquet';\n",
    "        Gas.to_parquet(cwd+'/POI/'+filename);\n",
    "        completeProvince.append(province);\n",
    "        dfGas=dfGas.append(Gas).reset_index(drop=True);\n",
    "    except:\n",
    "        print(' --- incomplete province --- ', province);\n",
    "        incompleteProvince.append(province);\n",
    "print(len(dfGas), ' -- dfGas -- ',dfGas);\n",
    "filename='GasStation_Thailand.parquet';\n",
    "dfGas.to_parquet(cwd+'/POI/'+filename);"
   ]
  },
  {
   "cell_type": "code",
   "execution_count": 47,
   "id": "703bd0d7",
   "metadata": {},
   "outputs": [
    {
     "name": "stdout",
     "output_type": "stream",
     "text": [
      " complete :  ['Bangkok', 'Nonthaburi']\n",
      " incomplete :  []\n"
     ]
    }
   ],
   "source": [
    "print(' complete : ',completeProvince)\n",
    "print(' incomplete : ',incompleteProvince)"
   ]
  }
 ],
 "metadata": {
  "kernelspec": {
   "display_name": "ox",
   "language": "python",
   "name": "ox"
  },
  "language_info": {
   "codemirror_mode": {
    "name": "ipython",
    "version": 3
   },
   "file_extension": ".py",
   "mimetype": "text/x-python",
   "name": "python",
   "nbconvert_exporter": "python",
   "pygments_lexer": "ipython3",
   "version": "3.9.6"
  }
 },
 "nbformat": 4,
 "nbformat_minor": 5
}
